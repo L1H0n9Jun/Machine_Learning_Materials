{
 "cells": [
  {
   "cell_type": "markdown",
   "metadata": {},
   "source": [
    "# Think Bayes: Chapter 7\n",
    "\n",
    "This notebook presents code and exercises from Think Bayes, second edition.\n",
    "\n",
    "Copyright 2016 Allen B. Downey\n",
    "\n",
    "MIT License: https://opensource.org/licenses/MIT"
   ]
  },
  {
   "cell_type": "code",
   "execution_count": 1,
   "metadata": {
    "collapsed": true
   },
   "outputs": [],
   "source": [
    "from __future__ import print_function, division\n",
    "\n",
    "% matplotlib inline\n",
    "import warnings\n",
    "warnings.filterwarnings('ignore')\n",
    "\n",
    "import math\n",
    "import numpy as np\n",
    "\n",
    "from thinkbayes2 import Pmf, Cdf, Suite, Joint\n",
    "import thinkplot"
   ]
  },
  {
   "cell_type": "markdown",
   "metadata": {},
   "source": [
    "## Warm-up exercises"
   ]
  },
  {
   "cell_type": "markdown",
   "metadata": {},
   "source": [
    "**Exercise:** Suppose that goal scoring in hockey is well modeled by a \n",
    "Poisson process, and that the long-run goal-scoring rate of the\n",
    "Boston Bruins against the Vancouver Canucks is 2.9 goals per game.\n",
    "In their next game, what is the probability\n",
    "that the Bruins score exactly 3 goals?  Plot the PMF of `k`, the number\n",
    "of goals they score in a game."
   ]
  },
  {
   "cell_type": "code",
   "execution_count": 2,
   "metadata": {
    "collapsed": false
   },
   "outputs": [],
   "source": [
    "# Solution goes here"
   ]
  },
  {
   "cell_type": "code",
   "execution_count": 3,
   "metadata": {
    "collapsed": false
   },
   "outputs": [],
   "source": [
    "# Solution goes here"
   ]
  },
  {
   "cell_type": "code",
   "execution_count": 4,
   "metadata": {
    "collapsed": false
   },
   "outputs": [],
   "source": [
    "# Solution goes here"
   ]
  },
  {
   "cell_type": "markdown",
   "metadata": {},
   "source": [
    "**Exercise:**  Assuming again that the goal scoring rate is 2.9, what is the probability of scoring a total of 9 goals in three games?  Answer this question two ways:\n",
    "\n",
    "1.  Compute the distribution of goals scored in one game and then add it to itself twice to find the distribution of goals scored in 3 games.\n",
    "\n",
    "2.  Use the Poisson PMF with parameter $\\lambda t$, where $\\lambda$ is the rate in goals per game and $t$ is the duration in games."
   ]
  },
  {
   "cell_type": "code",
   "execution_count": 5,
   "metadata": {
    "collapsed": false
   },
   "outputs": [],
   "source": [
    "# Solution goes here"
   ]
  },
  {
   "cell_type": "code",
   "execution_count": 6,
   "metadata": {
    "collapsed": false
   },
   "outputs": [],
   "source": [
    "# Solution goes here"
   ]
  },
  {
   "cell_type": "markdown",
   "metadata": {
    "collapsed": true
   },
   "source": [
    "**Exercise:** Suppose that the long-run goal-scoring rate of the\n",
    "Canucks against the Bruins is 2.6 goals per game.  Plot the distribution\n",
    "of `t`, the time until the Canucks score their first goal.\n",
    "In their next game, what is the probability that the Canucks score\n",
    "during the first period (that is, the first third of the game)?\n",
    "\n",
    "Hint: `thinkbayes2` provides `MakeExponentialPmf` and `EvalExponentialCdf`."
   ]
  },
  {
   "cell_type": "code",
   "execution_count": 7,
   "metadata": {
    "collapsed": false
   },
   "outputs": [],
   "source": [
    "# Solution goes here"
   ]
  },
  {
   "cell_type": "code",
   "execution_count": 8,
   "metadata": {
    "collapsed": false
   },
   "outputs": [],
   "source": [
    "# Solution goes here"
   ]
  },
  {
   "cell_type": "code",
   "execution_count": 9,
   "metadata": {
    "collapsed": false
   },
   "outputs": [],
   "source": [
    "# Solution goes here"
   ]
  },
  {
   "cell_type": "markdown",
   "metadata": {
    "collapsed": true
   },
   "source": [
    "**Exercise:** Assuming again that the goal scoring rate is 2.8, what is the probability that the Canucks get shut out (that is, don't score for an entire game)?  Answer this question two ways, using the CDF of the exponential distribution and the PMF of the Poisson distribution."
   ]
  },
  {
   "cell_type": "code",
   "execution_count": 10,
   "metadata": {
    "collapsed": false
   },
   "outputs": [],
   "source": [
    "# Solution goes here"
   ]
  },
  {
   "cell_type": "code",
   "execution_count": 11,
   "metadata": {
    "collapsed": false
   },
   "outputs": [],
   "source": [
    "# Solution goes here"
   ]
  },
  {
   "cell_type": "markdown",
   "metadata": {
    "collapsed": true
   },
   "source": [
    "## The Boston Bruins problem\n",
    "\n",
    "The `Hockey` suite contains hypotheses about the goal scoring rate for one team against the other.  The prior is Gaussian, with mean and variance based on previous games in the league.\n",
    "\n",
    "The Likelihood function takes as data the number of goals scored in a game."
   ]
  },
  {
   "cell_type": "code",
   "execution_count": 12,
   "metadata": {
    "collapsed": false
   },
   "outputs": [],
   "source": [
    "from thinkbayes2 import MakeNormalPmf\n",
    "from thinkbayes2 import EvalPoissonPmf\n",
    "\n",
    "class Hockey(Suite):\n",
    "    \"\"\"Represents hypotheses about the scoring rate for a team.\"\"\"\n",
    "\n",
    "    def __init__(self, label=None):\n",
    "        \"\"\"Initializes the Hockey object.\n",
    "\n",
    "        label: string\n",
    "        \"\"\"\n",
    "        mu = 2.8\n",
    "        sigma = 0.3\n",
    "\n",
    "        pmf = MakeNormalPmf(mu, sigma, num_sigmas=4, n=101)\n",
    "        Suite.__init__(self, pmf, label=label)\n",
    "            \n",
    "    def Likelihood(self, data, hypo):\n",
    "        \"\"\"Computes the likelihood of the data under the hypothesis.\n",
    "\n",
    "        Evaluates the Poisson PMF for lambda and k.\n",
    "\n",
    "        hypo: goal scoring rate in goals per game\n",
    "        data: goals scored in one game\n",
    "        \"\"\"\n",
    "        lam = hypo\n",
    "        k = data\n",
    "        like = EvalPoissonPmf(k, lam)\n",
    "        return like"
   ]
  },
  {
   "cell_type": "markdown",
   "metadata": {},
   "source": [
    "Now we can initialize a suite for each team:"
   ]
  },
  {
   "cell_type": "code",
   "execution_count": 13,
   "metadata": {
    "collapsed": false
   },
   "outputs": [],
   "source": [
    "suite1 = Hockey('bruins')\n",
    "suite2 = Hockey('canucks')"
   ]
  },
  {
   "cell_type": "markdown",
   "metadata": {},
   "source": [
    "Here's what the priors look like:"
   ]
  },
  {
   "cell_type": "code",
   "execution_count": 14,
   "metadata": {
    "collapsed": false
   },
   "outputs": [
    {
     "data": {
      "image/png": "[encoded data removed]",
      "text/plain": [
       "<matplotlib.figure.Figure at 0x7f009a60d210>"
      ]
     },
     "metadata": {},
     "output_type": "display_data"
    }
   ],
   "source": [
    "thinkplot.PrePlot(num=2)\n",
    "thinkplot.Pdf(suite1)\n",
    "thinkplot.Pdf(suite2)\n",
    "thinkplot.Config(xlabel='Goals per game',\n",
    "                ylabel='Probability')"
   ]
  },
  {
   "cell_type": "markdown",
   "metadata": {},
   "source": [
    "And we can update each suite with the scores from the first 4 games."
   ]
  },
  {
   "cell_type": "code",
   "execution_count": 15,
   "metadata": {
    "collapsed": false
   },
   "outputs": [
    {
     "data": {
      "text/plain": [
       "(2.8814477910015515, 2.6145205761109502)"
      ]
     },
     "execution_count": 15,
     "metadata": {},
     "output_type": "execute_result"
    },
    {
     "data": {
      "image/png": "[encoded data removed]",
      "text/plain": [
       "<matplotlib.figure.Figure at 0x7f009a5f8f10>"
      ]
     },
     "metadata": {},
     "output_type": "display_data"
    }
   ],
   "source": [
    "suite1.UpdateSet([0, 2, 8, 4])\n",
    "suite2.UpdateSet([1, 3, 1, 0])\n",
    "\n",
    "thinkplot.PrePlot(num=2)\n",
    "thinkplot.Pdf(suite1)\n",
    "thinkplot.Pdf(suite2)\n",
    "thinkplot.Config(xlabel='Goals per game',\n",
    "                ylabel='Probability')\n",
    "\n",
    "suite1.Mean(), suite2.Mean()"
   ]
  },
  {
   "cell_type": "markdown",
   "metadata": {},
   "source": [
    "To predict the number of goals scored in the next game we can compute, for each hypothetical value of $\\lambda$, a Poisson distribution of goals scored, then make a weighted mixture of Poissons:"
   ]
  },
  {
   "cell_type": "code",
   "execution_count": 16,
   "metadata": {
    "collapsed": false
   },
   "outputs": [],
   "source": [
    "from thinkbayes2 import MakeMixture\n",
    "from thinkbayes2 import MakePoissonPmf\n",
    "\n",
    "def MakeGoalPmf(suite, high=10):\n",
    "    \"\"\"Makes the distribution of goals scored, given distribution of lam.\n",
    "\n",
    "    suite: distribution of goal-scoring rate\n",
    "    high: upper bound\n",
    "\n",
    "    returns: Pmf of goals per game\n",
    "    \"\"\"\n",
    "    metapmf = Pmf()\n",
    "\n",
    "    for lam, prob in suite.Items():\n",
    "        pmf = MakePoissonPmf(lam, high)\n",
    "        metapmf.Set(pmf, prob)\n",
    "\n",
    "    mix = MakeMixture(metapmf, label=suite.label)\n",
    "    return mix"
   ]
  },
  {
   "cell_type": "markdown",
   "metadata": {},
   "source": [
    "Here's what the results look like."
   ]
  },
  {
   "cell_type": "code",
   "execution_count": 17,
   "metadata": {
    "collapsed": false
   },
   "outputs": [
    {
     "data": {
      "text/plain": [
       "(2.8792178420902261, 2.6134252104851328)"
      ]
     },
     "execution_count": 17,
     "metadata": {},
     "output_type": "execute_result"
    },
    {
     "data": {
      "image/png": "[encoded data removed]",
      "text/plain": [
       "<matplotlib.figure.Figure at 0x7f0097906550>"
      ]
     },
     "metadata": {},
     "output_type": "display_data"
    }
   ],
   "source": [
    "goal_dist1 = MakeGoalPmf(suite1)\n",
    "goal_dist2 = MakeGoalPmf(suite2)\n",
    "\n",
    "thinkplot.PrePlot(num=2)\n",
    "thinkplot.Pmf(goal_dist1)\n",
    "thinkplot.Pmf(goal_dist2)\n",
    "thinkplot.Config(xlabel='Goals',\n",
    "                ylabel='Probability',\n",
    "                xlim=[-0.7, 11.5])\n",
    "\n",
    "goal_dist1.Mean(), goal_dist2.Mean()"
   ]
  },
  {
   "cell_type": "markdown",
   "metadata": {},
   "source": [
    "Now we can compute the probability that the Bruins win, lose, or tie in regulation time."
   ]
  },
  {
   "cell_type": "code",
   "execution_count": 18,
   "metadata": {
    "collapsed": false
   },
   "outputs": [
    {
     "name": "stdout",
     "output_type": "stream",
     "text": [
      "Prob win, loss, tie: 0.457999782312 0.370290326041 0.171709891647\n"
     ]
    }
   ],
   "source": [
    "diff = goal_dist1 - goal_dist2\n",
    "p_win = diff.ProbGreater(0)\n",
    "p_loss = diff.ProbLess(0)\n",
    "p_tie = diff.Prob(0)\n",
    "\n",
    "print('Prob win, loss, tie:', p_win, p_loss, p_tie)"
   ]
  },
  {
   "cell_type": "markdown",
   "metadata": {},
   "source": [
    "If the game goes into overtime, we have to compute the distribution of `t`, the time until the first goal, for each team.  For each hypothetical value of $\\lambda$, the distribution of `t` is exponential, so the predictive distribution is a mixture of exponentials."
   ]
  },
  {
   "cell_type": "code",
   "execution_count": 19,
   "metadata": {
    "collapsed": true
   },
   "outputs": [],
   "source": [
    "from thinkbayes2 import MakeExponentialPmf\n",
    "\n",
    "def MakeGoalTimePmf(suite):\n",
    "    \"\"\"Makes the distribution of time til first goal.\n",
    "\n",
    "    suite: distribution of goal-scoring rate\n",
    "\n",
    "    returns: Pmf of goals per game\n",
    "    \"\"\"\n",
    "    metapmf = Pmf()\n",
    "\n",
    "    for lam, prob in suite.Items():\n",
    "        pmf = MakeExponentialPmf(lam, high=2.5, n=1001)\n",
    "        metapmf.Set(pmf, prob)\n",
    "\n",
    "    mix = MakeMixture(metapmf, label=suite.label)\n",
    "    return mix"
   ]
  },
  {
   "cell_type": "markdown",
   "metadata": {},
   "source": [
    "Here's what the predictive distributions for `t` look like."
   ]
  },
  {
   "cell_type": "code",
   "execution_count": 20,
   "metadata": {
    "collapsed": false
   },
   "outputs": [
    {
     "data": {
      "text/plain": [
       "(0.34678105634353618, 0.38140698509499399)"
      ]
     },
     "execution_count": 20,
     "metadata": {},
     "output_type": "execute_result"
    },
    {
     "data": {
      "image/png": "[encoded data removed]",
      "text/plain": [
       "<matplotlib.figure.Figure at 0x7f009786ee10>"
      ]
     },
     "metadata": {},
     "output_type": "display_data"
    }
   ],
   "source": [
    "time_dist1 = MakeGoalTimePmf(suite1)    \n",
    "time_dist2 = MakeGoalTimePmf(suite2)\n",
    " \n",
    "thinkplot.PrePlot(num=2)\n",
    "thinkplot.Pmf(time_dist1)\n",
    "thinkplot.Pmf(time_dist2)    \n",
    "thinkplot.Config(xlabel='Games until goal',\n",
    "                   ylabel='Probability')\n",
    "\n",
    "time_dist1.Mean(), time_dist2.Mean()"
   ]
  },
  {
   "cell_type": "markdown",
   "metadata": {},
   "source": [
    "In overtime the first team to score wins, so the probability of winning is the probability of generating a smaller value of `t`:"
   ]
  },
  {
   "cell_type": "code",
   "execution_count": 21,
   "metadata": {
    "collapsed": false
   },
   "outputs": [
    {
     "name": "stdout",
     "output_type": "stream",
     "text": [
      "p_win_in_overtime 0.524145104619\n"
     ]
    }
   ],
   "source": [
    "p_win_in_overtime = time_dist1.ProbLess(time_dist2)\n",
    "p_adjust = time_dist1.ProbEqual(time_dist2)\n",
    "p_win_in_overtime += p_adjust / 2\n",
    "print('p_win_in_overtime', p_win_in_overtime)"
   ]
  },
  {
   "cell_type": "markdown",
   "metadata": {},
   "source": [
    "Finally, we can compute the overall chance that the Bruins win, either in regulation or overtime."
   ]
  },
  {
   "cell_type": "code",
   "execution_count": 22,
   "metadata": {
    "collapsed": false
   },
   "outputs": [
    {
     "name": "stdout",
     "output_type": "stream",
     "text": [
      "p_win_overall 0.548000681433\n"
     ]
    }
   ],
   "source": [
    "p_win_overall = p_win + p_tie * p_win_in_overtime\n",
    "print('p_win_overall', p_win_overall)"
   ]
  },
  {
   "cell_type": "markdown",
   "metadata": {},
   "source": [
    "## Exercises"
   ]
  },
  {
   "cell_type": "markdown",
   "metadata": {},
   "source": [
    "**Exercise:** To make the model of overtime more correct, we could update both suites with 0 goals in one game, before computing the predictive distribution of `t`.  Make this change and see what effect it has on the results."
   ]
  },
  {
   "cell_type": "code",
   "execution_count": 23,
   "metadata": {
    "collapsed": false
   },
   "outputs": [],
   "source": [
    "# Solution goes here"
   ]
  },
  {
   "cell_type": "markdown",
   "metadata": {},
   "source": [
    "**Exercise:** In the final match of the 2014 FIFA World Cup, Germany defeated Argentina 1-0. What is the probability that Germany had the better team?  What is the probability that Germany would win a rematch?\n",
    "\n",
    "For a prior distribution on the goal-scoring rate for each team, use a gamma distribution with parameter 1.3."
   ]
  },
  {
   "cell_type": "code",
   "execution_count": 24,
   "metadata": {
    "collapsed": false
   },
   "outputs": [
    {
     "data": {
      "text/plain": [
       "1.3103599490022571"
      ]
     },
     "execution_count": 24,
     "metadata": {},
     "output_type": "execute_result"
    },
    {
     "data": {
      "image/png": "[encoded data removed]",
      "text/plain": [
       "<matplotlib.figure.Figure at 0x7f00973ff150>"
      ]
     },
     "metadata": {},
     "output_type": "display_data"
    }
   ],
   "source": [
    "from thinkbayes2 import MakeGammaPmf\n",
    "\n",
    "xs = np.linspace(0, 8, 101)\n",
    "pmf = MakeGammaPmf(xs, 1.3)\n",
    "thinkplot.Pdf(pmf)\n",
    "thinkplot.Config(xlabel='Goals per game')\n",
    "pmf.Mean()"
   ]
  },
  {
   "cell_type": "markdown",
   "metadata": {},
   "source": [
    "**Exercise:** In the 2014 FIFA World Cup, Germany played Brazil in a semifinal match. Germany scored after 11 minutes and again at the 23 minute mark. At that point in the match, how many goals would you expect Germany to score after 90 minutes? What was the probability that they would score 5 more goals (as, in fact, they did)?\n",
    "\n",
    "Note: for this one you will need a new suite that provides a Likelihood function that takes as data the time between goals, rather than the number of goals in a game. "
   ]
  },
  {
   "cell_type": "markdown",
   "metadata": {
    "collapsed": false
   },
   "source": [
    "**Exercise:** Which is a better way to break a tie: overtime or penalty shots?"
   ]
  },
  {
   "cell_type": "markdown",
   "metadata": {
    "collapsed": false
   },
   "source": [
    "**Exercise:** Suppose that you are an ecologist sampling the insect population in a new environment. You deploy 100 traps in a test area and come back the next day to check on them. You find that 37 traps have been triggered, trapping an insect inside. Once a trap triggers, it cannot trap another insect until it has been reset.\n",
    "If you reset the traps and come back in two days, how many traps do you expect to find triggered? Compute a posterior predictive distribution for the number of traps."
   ]
  },
  {
   "cell_type": "code",
   "execution_count": null,
   "metadata": {
    "collapsed": true
   },
   "outputs": [],
   "source": []
  }
 ],
 "metadata": {
  "kernelspec": {
   "display_name": "Python 2",
   "language": "python",
   "name": "python2"
  },
  "language_info": {
   "codemirror_mode": {
    "name": "ipython",
    "version": 2
   },
   "file_extension": ".py",
   "mimetype": "text/x-python",
   "name": "python",
   "nbconvert_exporter": "python",
   "pygments_lexer": "ipython2",
   "version": "2.7.11"
  }
 },
 "nbformat": 4,
 "nbformat_minor": 0
}
