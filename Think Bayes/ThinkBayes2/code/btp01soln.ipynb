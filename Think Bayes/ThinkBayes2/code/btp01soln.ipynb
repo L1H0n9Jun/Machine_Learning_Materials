{
 "cells": [
  {
   "cell_type": "markdown",
   "metadata": {},
   "source": [
    "# Bayes Theorem Problems\n",
    "\n",
    "This notebook presents code and exercises from Think Bayes, second edition.\n",
    "\n",
    "Copyright 2016 Allen B. Downey\n",
    "\n",
    "MIT License: https://opensource.org/licenses/MIT"
   ]
  },
  {
   "cell_type": "code",
   "execution_count": 1,
   "metadata": {
    "collapsed": false
   },
   "outputs": [],
   "source": [
    "from __future__ import print_function, division\n",
    "\n",
    "% matplotlib inline\n",
    "import warnings\n",
    "warnings.filterwarnings('ignore')\n",
    "\n",
    "import numpy as np\n",
    "\n",
    "from thinkbayes2 import Hist, Pmf, Cdf, Suite, Beta\n",
    "import thinkplot"
   ]
  },
  {
   "cell_type": "markdown",
   "metadata": {},
   "source": [
    "## The sock problem\n",
    "\n",
    "Yuzhong Huang\n",
    "\n",
    "There are two drawers of socks. The first drawer has 40 white socks and 10 black socks; the second drawer has 20 white socks and 30 black socks. We randomly get 2 socks from a drawer, and it turns out to be a pair(same color) but we don't know the color of these socks. What is the chance that we picked the first drawer.\n"
   ]
  },
  {
   "cell_type": "code",
   "execution_count": 2,
   "metadata": {
    "collapsed": false
   },
   "outputs": [
    {
     "name": "stdout",
     "output_type": "stream",
     "text": [
      "drawer 1 0.566666666667\n",
      "drawer 2 0.433333333333\n"
     ]
    }
   ],
   "source": [
    "# Solution\n",
    "\n",
    "pmf = Pmf(['drawer 1', 'drawer 2'])\n",
    "pmf['drawer 1'] *= (40/50)**2 + (10/50)**2\n",
    "pmf['drawer 2'] *= (30/50)**2 + (20/50)**2\n",
    "pmf.Normalize()\n",
    "pmf.Print()"
   ]
  },
  {
   "cell_type": "code",
   "execution_count": 3,
   "metadata": {
    "collapsed": false
   },
   "outputs": [
    {
     "name": "stdout",
     "output_type": "stream",
     "text": [
      "drawer 1 0.568965517241\n",
      "drawer 2 0.431034482759\n"
     ]
    }
   ],
   "source": [
    "# Solution\n",
    "\n",
    "pmf = Pmf(['drawer 1', 'drawer 2'])\n",
    "pmf['drawer 1'] *= (40/50)*(39/49) + (10/50)*(9/49)\n",
    "pmf['drawer 2'] *= (30/50)*(29/49) + (20/50)*(19/49)\n",
    "pmf.Normalize()\n",
    "pmf.Print()"
   ]
  },
  {
   "cell_type": "code",
   "execution_count": 4,
   "metadata": {
    "collapsed": false
   },
   "outputs": [],
   "source": [
    "# Solution\n",
    "\n",
    "class Socks(Suite):\n",
    "    \n",
    "    def Likelihood(self, data, hypo):\n",
    "        \"\"\"Probability of data under hypo.\n",
    "        \n",
    "        data: 'pair' or 'no pair'\n",
    "        hypo: tuple, number of (white, black) socks\n",
    "        \"\"\"\n",
    "        white, black = hypo\n",
    "        total = white + black\n",
    "        like = white/total*(white-1)/(total-1) + black/total*(black-1)/(total-1)\n",
    "        if data == 'pair':\n",
    "            return like\n",
    "        else:\n",
    "            return 1-like                         "
   ]
  },
  {
   "cell_type": "code",
   "execution_count": 5,
   "metadata": {
    "collapsed": false
   },
   "outputs": [
    {
     "data": {
      "image/png": "[encoded data removed]",
      "text/plain": [
       "<matplotlib.figure.Figure at 0x7f23e4e7edd0>"
      ]
     },
     "metadata": {},
     "output_type": "display_data"
    }
   ],
   "source": [
    "# Solution\n",
    "\n",
    "n = 50\n",
    "socks = Socks()\n",
    "for white in range(n+1):\n",
    "    socks[white, n-white] = 1\n",
    "socks.Normalize()\n",
    "thinkplot.Pdf(socks)"
   ]
  },
  {
   "cell_type": "code",
   "execution_count": 6,
   "metadata": {
    "collapsed": false
   },
   "outputs": [
    {
     "data": {
      "image/png": "[encoded data removed]",
      "text/plain": [
       "<matplotlib.figure.Figure at 0x7f23e2a28890>"
      ]
     },
     "metadata": {},
     "output_type": "display_data"
    }
   ],
   "source": [
    "# Solution\n",
    "\n",
    "socks.Update('pair')\n",
    "thinkplot.Pdf(socks)\n",
    "thinkplot.Config(ylim=[0,0.03])"
   ]
  },
  {
   "cell_type": "markdown",
   "metadata": {},
   "source": [
    "## Chess-playing twins\n",
    "\n",
    "Allen Downey\n",
    "\n",
    "Two identical twins are members of my chess club, but they never show up on the same day; in fact, they strictly alternate the days they show up.  I can't tell them apart except that one is a better player than the other:  Avery beats me 60% of the time and I beat Blake 70% of the time.  If I play one twin on Monday and win, and the other twin on Tuesday and lose, which twin did I play on which day?"
   ]
  },
  {
   "cell_type": "code",
   "execution_count": 7,
   "metadata": {
    "collapsed": false
   },
   "outputs": [
    {
     "name": "stdout",
     "output_type": "stream",
     "text": [
      "AB 0.222222222222\n",
      "BA 0.777777777778\n"
     ]
    }
   ],
   "source": [
    "# Solution\n",
    "\n",
    "pmf = Pmf(['AB', 'BA'])\n",
    "pmf['AB'] = 0.4 * 0.3\n",
    "pmf['BA'] = 0.7 * 0.6\n",
    "pmf.Normalize()\n",
    "pmf.Print()"
   ]
  },
  {
   "cell_type": "code",
   "execution_count": 8,
   "metadata": {
    "collapsed": false
   },
   "outputs": [],
   "source": [
    "# Solution\n",
    "\n",
    "class Chess(Suite):\n",
    "    \n",
    "    prob_I_beat = dict(A=0.4, B=0.7)\n",
    "    \n",
    "    def Likelihood(self, data, hypo):\n",
    "        \"\"\"Probability of data under hypo.\n",
    "        \n",
    "        data: sequence of 'W' and 'L'\n",
    "        hypo: sequence of 'A' and 'B'\n",
    "        \"\"\"\n",
    "        total = 1\n",
    "        for outcome, twin in zip(data, hypo):\n",
    "            like = self.prob_I_beat[twin]\n",
    "            if outcome == 'W':\n",
    "                total *= like\n",
    "            else:\n",
    "                total *= 1-like\n",
    "        return total"
   ]
  },
  {
   "cell_type": "code",
   "execution_count": 9,
   "metadata": {
    "collapsed": false
   },
   "outputs": [
    {
     "name": "stdout",
     "output_type": "stream",
     "text": [
      "AB 0.222222222222\n",
      "BA 0.777777777778\n"
     ]
    }
   ],
   "source": [
    "# Solution\n",
    "\n",
    "chess = Chess(['AB', 'BA'])\n",
    "chess.Update('WL')\n",
    "chess.Print()"
   ]
  },
  {
   "cell_type": "markdown",
   "metadata": {},
   "source": [
    "## 1984\n",
    "\n",
    "by Katerina Zoltan\n",
    "\n",
    "The place: Airstrip One. The reason: thoughtcrime. The time: ???\n",
    "\n",
    "John's parents were taken by the Thought Police and erased from all records. John is being initiated into the Youth League and must pass a test. He is asked whether his parents are good comrades. It is not clear what John's admission officer knows:\n",
    "\n",
    "1. He may know that John's parents have been erased and that John did not give them away.\n",
    "2. He may know only that John's parents have been erased.\n",
    "3. He may not know that John's parents have been erased.\n",
    "\n",
    "It is a well known fact that children who have parents that are 'good comrades' have twice the chances of passing the test. However, if the admission officer knows that their parents committed thoughtcrime (but not that they have been erased yet), a child that gave his parents away has three times the chances of getting in than a child who did not give them away.\n",
    "\n",
    "And if the admission officer knows the specifics of the arrest, a child that denies that the records are false and their parents existed has a 1/3 chance of getting in, while one who pretends that his parents never existed has a 2/3 chance. Lying to an admission officer that knows the parents have been erased will ensure that the child does not get in. Telling an admission officer that your parents do not exist when he does not know this will give you a 1/3 chance of getting in.\n",
    "\n",
    "There is a 60% chance the admission officer knows nothing, a 25% chance that he knows the parents have been erased, and a 15% chance that the officer knows all of the details. John says that he never had parents and is admitted into the Youth League. What did his admission officer know?"
   ]
  },
  {
   "cell_type": "code",
   "execution_count": 10,
   "metadata": {
    "collapsed": false
   },
   "outputs": [
    {
     "name": "stdout",
     "output_type": "stream",
     "text": [
      "everything 0.15\n",
      "nothing 0.6\n",
      "something 0.25\n"
     ]
    }
   ],
   "source": [
    "# Solution\n",
    "\n",
    "officer = {'everything':0.15, 'something':0.25, 'nothing':0.6}\n",
    "\n",
    "class ThoughtPolice(Suite):\n",
    "\n",
    "    def Likelihood(self, data, hypo):\n",
    "        if data == 'gave away':\n",
    "            if hypo == 'everything':\n",
    "                return 0\n",
    "            elif hypo == 'something':\n",
    "                return 1\n",
    "            else:\n",
    "                return 3\n",
    "        elif data == 'none':\n",
    "            if hypo == 'everything':\n",
    "                return 2\n",
    "            elif hypo == 'something':\n",
    "                return 1\n",
    "            else:\n",
    "                return 1\n",
    "        else: # data == 'good comrades'\n",
    "            if hypo == 'everything':\n",
    "                return 0\n",
    "            elif hypo == 'something':\n",
    "                return 0\n",
    "            else:\n",
    "                return 2\n",
    "        \n",
    "pmf = ThoughtPolice(officer)\n",
    "pmf.Print()"
   ]
  },
  {
   "cell_type": "code",
   "execution_count": 11,
   "metadata": {
    "collapsed": false
   },
   "outputs": [
    {
     "name": "stdout",
     "output_type": "stream",
     "text": [
      "everything 0.260869565217\n",
      "nothing 0.521739130435\n",
      "something 0.217391304348\n"
     ]
    }
   ],
   "source": [
    "# Solution\n",
    "\n",
    "pmf.Update('none')\n",
    "pmf.Print()"
   ]
  },
  {
   "cell_type": "markdown",
   "metadata": {},
   "source": [
    "### Where Am I? - The Robot Localization Problem\n",
    "\n",
    "by Kathryn Hite\n",
    "\n",
    "Bayes's Theorem proves to be extremely useful when building mobile robots that need to know where they are within an environment at any given time.  Because of the error in motion and sensor systems, a robot's knowledge of its location in the world is based on probabilities.  Let's look at a simplified example that could feasibly be scaled up to create a working localization model.\n",
    "\n",
    "**Part A:**  We have a robot that exists within a very simple environement.  The map for this environment is a row of 6 grid cells that are colored either green or red and each labeled $x_1$, $x_2$, etc.  In real life, a larger form of this grid environment could make up what is known as an occupancy grid, or a map of the world with places that the robot can go represented as green cells and obstacles as red cells.\n",
    "\n",
    "|G|R|R|G|G|G|\n",
    "|-|-|-|-|-|-|\n",
    "|$x_1$|$x_2$|$x_3$|$x_4$|$x_5$|$x_6$|\n",
    "\n",
    "The robot has a sensor that can detect color with an 80% chance of being accurate.\n",
    "\n",
    "Given that the robot gets dropped in the environment and senses **red**, what is the probability of it being in each of the six locations?"
   ]
  },
  {
   "cell_type": "code",
   "execution_count": 12,
   "metadata": {
    "collapsed": false
   },
   "outputs": [
    {
     "name": "stdout",
     "output_type": "stream",
     "text": [
      "0 0.0833333333333\n",
      "1 0.333333333333\n",
      "2 0.333333333333\n",
      "3 0.0833333333333\n",
      "4 0.0833333333333\n",
      "5 0.0833333333333\n"
     ]
    }
   ],
   "source": [
    "# Solution\n",
    "\n",
    "colors = 'GRRGGG'\n",
    "locs = range(len(colors))\n",
    "data = 'R'\n",
    "\n",
    "pmf = Pmf(locs)\n",
    "for hypo in pmf:\n",
    "    if colors[hypo] == data:\n",
    "        pmf[hypo] *= 0.8\n",
    "    else:\n",
    "        pmf[hypo] *= 0.2\n",
    "pmf.Normalize()\n",
    "pmf.Print()"
   ]
  },
  {
   "cell_type": "code",
   "execution_count": 13,
   "metadata": {
    "collapsed": true
   },
   "outputs": [],
   "source": [
    "# Solution\n",
    "\n",
    "class Robot(Suite):\n",
    "    \n",
    "    colors = 'GRRGGG'\n",
    "    \n",
    "    def Likelihood(self, data, hypo):\n",
    "        \"\"\"\n",
    "        \n",
    "        data: 'R' or 'G'\n",
    "        hypo: index of starting location\n",
    "        \"\"\"\n",
    "        if self.colors[hypo] == data:\n",
    "            return 0.8\n",
    "        else:\n",
    "            return 0.2"
   ]
  },
  {
   "cell_type": "code",
   "execution_count": 14,
   "metadata": {
    "collapsed": false
   },
   "outputs": [
    {
     "name": "stdout",
     "output_type": "stream",
     "text": [
      "0 0.0833333333333\n",
      "1 0.333333333333\n",
      "2 0.333333333333\n",
      "3 0.0833333333333\n",
      "4 0.0833333333333\n",
      "5 0.0833333333333\n"
     ]
    }
   ],
   "source": [
    "# Solution\n",
    "\n",
    "robot = Robot(locs)\n",
    "robot.Update('R')\n",
    "robot.Print()"
   ]
  },
  {
   "cell_type": "markdown",
   "metadata": {},
   "source": [
    "**Part B:** This becomes an extremely useful tool as we begin to move around the map.  Let's try to get a more accurate knowledge of where the robot falls in the world by telling it to move forward one cell.\n",
    "\n",
    "The robot moves forward one cell from its previous position and the sensor reads **green**, again with an 80% accuracy rate.  Update the probability of the robot having started in each location."
   ]
  },
  {
   "cell_type": "code",
   "execution_count": 15,
   "metadata": {
    "collapsed": false
   },
   "outputs": [],
   "source": [
    "# Solution\n",
    "\n",
    "class Robot2(Suite):\n",
    "    \n",
    "    colors = 'GRRGGG'\n",
    "    \n",
    "    def Likelihood(self, data, hypo):\n",
    "        \"\"\"\n",
    "        \n",
    "        data: tuple (offset, 'R' or 'G')\n",
    "        hypo: index of starting location\n",
    "        \"\"\"\n",
    "        offset, color = data\n",
    "        index = (hypo + offset) % len(self.colors)\n",
    "        if self.colors[index] == color:\n",
    "            return 0.8\n",
    "        else:\n",
    "            return 0.2"
   ]
  },
  {
   "cell_type": "code",
   "execution_count": 16,
   "metadata": {
    "collapsed": false
   },
   "outputs": [
    {
     "name": "stdout",
     "output_type": "stream",
     "text": [
      "0 0.0833333333333\n",
      "1 0.333333333333\n",
      "2 0.333333333333\n",
      "3 0.0833333333333\n",
      "4 0.0833333333333\n",
      "5 0.0833333333333\n"
     ]
    }
   ],
   "source": [
    "# Solution\n",
    "\n",
    "robot = Robot2(locs)\n",
    "robot.Update((0, 'R'))\n",
    "robot.Print()"
   ]
  },
  {
   "cell_type": "code",
   "execution_count": 17,
   "metadata": {
    "collapsed": false
   },
   "outputs": [
    {
     "name": "stdout",
     "output_type": "stream",
     "text": [
      "0 0.030303030303\n",
      "1 0.121212121212\n",
      "2 0.484848484848\n",
      "3 0.121212121212\n",
      "4 0.121212121212\n",
      "5 0.121212121212\n"
     ]
    }
   ],
   "source": [
    "# Solution\n",
    "\n",
    "robot.Update((1, 'G'))\n",
    "robot.Print()"
   ]
  },
  {
   "cell_type": "markdown",
   "metadata": {},
   "source": [
    "## Red Dice problems\n",
    "\n",
    "Suppose I have a six-sided die that is red on 2 sides and blue on 4 sides, and another die that's the other way around, red on 4 sides and blue on 2.\n",
    "\n",
    "I choose a die at random and roll it, and I tell you it came up red.  What is the probability that I rolled the second die (red on 4 sides)?"
   ]
  },
  {
   "cell_type": "code",
   "execution_count": 18,
   "metadata": {
    "collapsed": false
   },
   "outputs": [
    {
     "name": "stdout",
     "output_type": "stream",
     "text": [
      "Blue 2/3\n",
      "Red 1/3\n"
     ]
    }
   ],
   "source": [
    "# Solution\n",
    "\n",
    "from fractions import Fraction\n",
    "\n",
    "d1 = Pmf({'Red':Fraction(2), 'Blue':Fraction(4)}, label='d1 (bluish) ')\n",
    "d1.Print()"
   ]
  },
  {
   "cell_type": "code",
   "execution_count": 19,
   "metadata": {
    "collapsed": false
   },
   "outputs": [
    {
     "name": "stdout",
     "output_type": "stream",
     "text": [
      "Blue 1/3\n",
      "Red 2/3\n"
     ]
    }
   ],
   "source": [
    "# Solution\n",
    "\n",
    "d2 = Pmf({'Red':Fraction(4), 'Blue':Fraction(2)}, label='d2 (reddish)')\n",
    "d2.Print()"
   ]
  },
  {
   "cell_type": "code",
   "execution_count": 20,
   "metadata": {
    "collapsed": false
   },
   "outputs": [
    {
     "name": "stdout",
     "output_type": "stream",
     "text": [
      "d2 (reddish) 1/2\n",
      "d1 (bluish)  1/2\n"
     ]
    }
   ],
   "source": [
    "# Solution\n",
    "\n",
    "dice = Pmf({d1:Fraction(1), d2:Fraction(1)})\n",
    "dice.Print()"
   ]
  },
  {
   "cell_type": "code",
   "execution_count": 21,
   "metadata": {
    "collapsed": false
   },
   "outputs": [],
   "source": [
    "# Solution\n",
    "\n",
    "class Dice(Suite):\n",
    "    def Likelihood(self, data, hypo):\n",
    "        \"\"\"\n",
    "        data: 'Red' or 'Blue'\n",
    "        hypo: a Die object\n",
    "        \"\"\"\n",
    "        return hypo[data]"
   ]
  },
  {
   "cell_type": "code",
   "execution_count": 22,
   "metadata": {
    "collapsed": false
   },
   "outputs": [
    {
     "name": "stdout",
     "output_type": "stream",
     "text": [
      "d2 (reddish) 1/2\n",
      "d1 (bluish)  1/2\n"
     ]
    }
   ],
   "source": [
    "# Solution\n",
    "\n",
    "prior = Dice({d1:Fraction(1), d2:Fraction(1)})\n",
    "prior.Print()"
   ]
  },
  {
   "cell_type": "code",
   "execution_count": 23,
   "metadata": {
    "collapsed": false
   },
   "outputs": [
    {
     "name": "stdout",
     "output_type": "stream",
     "text": [
      "d2 (reddish) 2/3\n",
      "d1 (bluish)  1/3\n"
     ]
    }
   ],
   "source": [
    "# Solution\n",
    "\n",
    "posterior = prior.Copy()\n",
    "posterior.Update('Red')\n",
    "posterior.Print()"
   ]
  },
  {
   "cell_type": "markdown",
   "metadata": {},
   "source": [
    "## Scenario B\n",
    "\n",
    "Suppose I roll the same die again.  What is the probability I get red?"
   ]
  },
  {
   "cell_type": "code",
   "execution_count": 24,
   "metadata": {
    "collapsed": false,
    "scrolled": true
   },
   "outputs": [
    {
     "name": "stdout",
     "output_type": "stream",
     "text": [
      "Blue 4/9\n",
      "Red 5/9\n"
     ]
    }
   ],
   "source": [
    "# Solution\n",
    "\n",
    "from thinkbayes2 import MakeMixture\n",
    "\n",
    "predictive = MakeMixture(posterior)\n",
    "predictive.Print()"
   ]
  },
  {
   "cell_type": "markdown",
   "metadata": {},
   "source": [
    "## Scenario A\n",
    "\n",
    "Instead of rolling the same die, suppose I choosing a die at random and roll it.  What is the probability that I get red?"
   ]
  },
  {
   "cell_type": "code",
   "execution_count": 25,
   "metadata": {
    "collapsed": false
   },
   "outputs": [
    {
     "name": "stdout",
     "output_type": "stream",
     "text": [
      "Blue 1/2\n",
      "Red 1/2\n"
     ]
    }
   ],
   "source": [
    "# Solution\n",
    "\n",
    "from thinkbayes2 import MakeMixture\n",
    "\n",
    "predictive = MakeMixture(prior)\n",
    "predictive.Print()"
   ]
  },
  {
   "cell_type": "markdown",
   "metadata": {},
   "source": [
    "## Scenario C\n",
    "\n",
    "Now let's run a different experiment.  Suppose I choose a die and roll it.  If the outcome is red, I report the outcome.  Otherwise I choose a die again and roll again, and repeat until I get red.\n",
    "\n",
    "What is the probability that the last die I rolled is the reddish one?"
   ]
  },
  {
   "cell_type": "code",
   "execution_count": 26,
   "metadata": {
    "collapsed": true
   },
   "outputs": [],
   "source": [
    "# Solution\n",
    "\n",
    "# On each roll, there are four possible results, with these probabilities:\n",
    "\n",
    "#    d1, red       1/2 * 1/3\n",
    "#    d1, blue      1/2 * 2/3\n",
    "#    d2, red       1/2 * 2/3\n",
    "#    d2, blue      1/2 * 1/3\n",
    "\n",
    "#On the last roll, I tell you that the outcome is red, so we are left with two possibilities:\n",
    "\n",
    "#    d1, red       1/2 * 1/3\n",
    "#    d2, red       1/2 * 2/3\n",
    "\n",
    "# The likelihood ratio is 2 to 1, so we can use that to update the prior:"
   ]
  },
  {
   "cell_type": "code",
   "execution_count": 27,
   "metadata": {
    "collapsed": false
   },
   "outputs": [
    {
     "name": "stdout",
     "output_type": "stream",
     "text": [
      "d2 (reddish) 2/3\n",
      "d1 (bluish)  1/3\n"
     ]
    }
   ],
   "source": [
    "# Solution\n",
    "\n",
    "posterior = prior.Copy()\n",
    "posterior[d1] *= 1\n",
    "posterior[d2] *= 2\n",
    "posterior.Normalize()\n",
    "posterior.Print()"
   ]
  },
  {
   "cell_type": "markdown",
   "metadata": {},
   "source": [
    "## Scenario D\n",
    "\n",
    "Finally, suppose I choose a die and roll it over and over until I get red, then report the outcome.  What is the probability that the die I rolled is the reddish one?"
   ]
  },
  {
   "cell_type": "code",
   "execution_count": 28,
   "metadata": {
    "collapsed": false
   },
   "outputs": [
    {
     "name": "stdout",
     "output_type": "stream",
     "text": [
      "d2 (reddish) 1/2\n",
      "d1 (bluish)  1/2\n"
     ]
    }
   ],
   "source": [
    "# Solution\n",
    "\n",
    "# In this case, the likelihood of the data is the same regardless of\n",
    "# which die I rolled, so the posterior is the same as the prior.\n",
    "\n",
    "posterior = prior.Copy()\n",
    "posterior.Print()"
   ]
  },
  {
   "cell_type": "code",
   "execution_count": 29,
   "metadata": {
    "collapsed": true
   },
   "outputs": [],
   "source": [
    "# Solution\n",
    "\n",
    "#In summary, each of the four scenarios yields a different pair of posterior\n",
    "# and predictive distributions.\n",
    "\n",
    "# Scenario        Posterior probability of d2      Predictive probability of red\n",
    "# A               2/3                              1/2\n",
    "# B               2/3                              5/9\n",
    "# C               2/3                              1\n",
    "# D               1/2                              1"
   ]
  },
  {
   "cell_type": "markdown",
   "metadata": {},
   "source": [
    "## The bus problem\n",
    "\n",
    "Allen Downey\n",
    "\n",
    "Two buses routes run past my house, headed for Arlington and Billerica.  In theory, the Arlington bus runs every 20 minutes and the Billerica bus every 30 minutes, but by the time they get to me, the time between buses is well-modeled by exponential distributions with means 20 and 30.\n",
    "\n",
    "Part 1: Suppose I see a bus outside my house, but I can't read the destination.  What is the probability that it is an Arlington bus?\n",
    "\n",
    "Part 2: Suppose I see a bus go by, but I don't see the destination, and 3 minutes later I see another bus.  What is the probability that the second bus is going to Arlington?"
   ]
  },
  {
   "cell_type": "code",
   "execution_count": 30,
   "metadata": {
    "collapsed": false
   },
   "outputs": [],
   "source": [
    "# Solution\n",
    "\n",
    "def generate_times(lam, n=10):\n",
    "    gaps = np.random.exponential(lam, n)\n",
    "    times = np.cumsum(gaps)\n",
    "    for time in times:\n",
    "        yield time"
   ]
  },
  {
   "cell_type": "code",
   "execution_count": 31,
   "metadata": {
    "collapsed": false
   },
   "outputs": [
    {
     "name": "stdout",
     "output_type": "stream",
     "text": [
      "15.1381021981\n",
      "35.6595368992\n",
      "40.2555876685\n",
      "44.5338062274\n",
      "58.7218133396\n",
      "82.9148030062\n",
      "113.755194822\n",
      "126.646534094\n",
      "138.89916925\n",
      "145.582801415\n"
     ]
    }
   ],
   "source": [
    "# Solution\n",
    "\n",
    "for time in generate_times(20, 10):\n",
    "    print(time)"
   ]
  },
  {
   "cell_type": "code",
   "execution_count": 32,
   "metadata": {
    "collapsed": false
   },
   "outputs": [],
   "source": [
    "# Solution\n",
    "\n",
    "def generate_buses(names, lams, n):\n",
    "    buses = [generate_times(lam, n) for lam in lams]\n",
    "    times = [next(bus) for bus in buses]\n",
    "\n",
    "    while True:\n",
    "        i = np.argmin(times) \n",
    "        yield(names[i], times[i])\n",
    "        times[i] = next(buses[i])"
   ]
  },
  {
   "cell_type": "code",
   "execution_count": 33,
   "metadata": {
    "collapsed": false
   },
   "outputs": [
    {
     "data": {
      "text/plain": [
       "('A', 27.901039669324383)"
      ]
     },
     "execution_count": 33,
     "metadata": {},
     "output_type": "execute_result"
    }
   ],
   "source": [
    "# Solution\n",
    "\n",
    "next(generate_buses('AB', [20, 30], 10))"
   ]
  },
  {
   "cell_type": "code",
   "execution_count": 34,
   "metadata": {
    "collapsed": false
   },
   "outputs": [],
   "source": [
    "# Solution\n",
    "\n",
    "res = []\n",
    "for bus, time in generate_buses('AB', [20, 30], 1000):\n",
    "    res.append((bus, time))"
   ]
  },
  {
   "cell_type": "code",
   "execution_count": 35,
   "metadata": {
    "collapsed": true
   },
   "outputs": [],
   "source": [
    "# Solution\n",
    "\n",
    "buses, times = zip(*res)"
   ]
  },
  {
   "cell_type": "code",
   "execution_count": 36,
   "metadata": {
    "collapsed": false
   },
   "outputs": [
    {
     "data": {
      "text/plain": [
       "0.6045949214026602"
      ]
     },
     "execution_count": 36,
     "metadata": {},
     "output_type": "execute_result"
    }
   ],
   "source": [
    "# Solution\n",
    "\n",
    "hist = Hist(buses)\n",
    "hist['A'] / hist.Total()"
   ]
  },
  {
   "cell_type": "code",
   "execution_count": null,
   "metadata": {
    "collapsed": true
   },
   "outputs": [],
   "source": []
  }
 ],
 "metadata": {
  "kernelspec": {
   "display_name": "Python 2",
   "language": "python",
   "name": "python2"
  },
  "language_info": {
   "codemirror_mode": {
    "name": "ipython",
    "version": 2
   },
   "file_extension": ".py",
   "mimetype": "text/x-python",
   "name": "python",
   "nbconvert_exporter": "python",
   "pygments_lexer": "ipython2",
   "version": "2.7.11"
  }
 },
 "nbformat": 4,
 "nbformat_minor": 0
}
